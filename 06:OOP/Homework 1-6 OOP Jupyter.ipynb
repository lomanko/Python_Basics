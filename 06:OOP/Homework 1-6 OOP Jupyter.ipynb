{
 "cells": [
  {
   "cell_type": "code",
   "execution_count": 1,
   "id": "e3a69b2b",
   "metadata": {},
   "outputs": [],
   "source": [
    "class Student:\n",
    "    def __init__(self, name, surname, gender):\n",
    "        self.name = name\n",
    "        self.surname = surname\n",
    "        self.gender = gender\n",
    "        self.finished_courses = []\n",
    "        self.courses_in_progress = []\n",
    "        self.grades = {}\n",
    "    \n",
    "    # метод для оценки лекций у класса Lecturer\n",
    "    def rate_lecture(self, lecturer, course, grade):\n",
    "        # проверка, что lecturer является объектом соответствующего класса;\n",
    "        # проверка, что оценка от 0 до 10 баллов;\n",
    "        # проверка, что курс есть в courses_attached у лектора;\n",
    "        # проверка, что курс есть в courses_in_progress у студента.\n",
    "        if isinstance(lecturer, Lecturer) and 0 <= grade <= 10 and course in lecturer.courses_attached and course in self.courses_in_progress:\n",
    "            if course in lecturer.lecture_marks:\n",
    "                lecturer.lecture_marks[course] += [grade]\n",
    "            else:\n",
    "                lecturer.lecture_marks[course] = [grade]\n",
    "        else:\n",
    "            return 'Ошибка'\n",
    "    \n",
    "    def average_hw_grades(self):\n",
    "        res = sum(sum(self.grades.values(),[])) #сумма оценок\n",
    "        quantity = len(sum(self.grades.values(),[])) #количество оценок\n",
    "        if quantity > 0:\n",
    "            return (res / quantity)\n",
    "        else:\n",
    "            return 'Оценок нет'\n",
    "        \n",
    "    def __str__(self):\n",
    "        res = f'''\n",
    "        Имя: {self.name}\n",
    "        Фамилия: {self.surname}\n",
    "        Средняя оценка за ДЗ: {self.average_hw_grades()}\n",
    "        Курсы в процессе изучения: {', '.join(self.courses_in_progress)}\n",
    "        Завершенные курсы: {', '.join(self.finished_courses)}\n",
    "        '''\n",
    "        return res\n",
    "    \n",
    "    def __lt__(self, other):\n",
    "        if not isinstance(other, Student):\n",
    "            print('Некорректное сравнение.')\n",
    "            return\n",
    "        if self.average_hw_grades() == 'Оценок нет' or other.average_hw_grades() == 'Оценок нет':\n",
    "            return 'Сравнение невозможно, т.к. у одного из студентов нет оценок'\n",
    "        return self.average_hw_grades() < other.average_hw_grades()"
   ]
  },
  {
   "cell_type": "code",
   "execution_count": 2,
   "id": "87b5d83a",
   "metadata": {},
   "outputs": [],
   "source": [
    "class Mentor:\n",
    "    def __init__(self, name, surname):\n",
    "        self.name = name\n",
    "        self.surname = surname\n",
    "        self.courses_attached = []"
   ]
  },
  {
   "cell_type": "code",
   "execution_count": 3,
   "id": "46a2e83a",
   "metadata": {},
   "outputs": [],
   "source": [
    "class Lecturer(Mentor):\n",
    "    def __init__(self, name, surname):\n",
    "        super().__init__(name, surname)\n",
    "        self.lecture_marks = {}\n",
    "    \n",
    "    def average_lecture_marks(self):\n",
    "        res = sum(sum(self.lecture_marks.values(),[])) #сумма оценок\n",
    "        quantity = len(sum(self.lecture_marks.values(),[])) #количество оценок\n",
    "        if quantity > 0:\n",
    "            return (res / quantity)\n",
    "        else:\n",
    "            return 'Оценок нет'\n",
    "    \n",
    "    def __str__(self):\n",
    "        #res = f'Имя: {self.name} \\nФамилия: {self.surname} \\nСредняя оценка за лекции: {self.average_lecture_marks()}'\n",
    "        res = f'''\n",
    "        Имя: {self.name}\n",
    "        Фамилия: {self.surname}\n",
    "        Средняя оценка за лекции: {self.average_lecture_marks()}\n",
    "        '''\n",
    "        return res\n",
    "    \n",
    "    def __lt__(self, other):\n",
    "        if not isinstance(other, Lecturer):\n",
    "            print('Некорректное сравнение.')\n",
    "            return\n",
    "        if self.average_lecture_marks() == 'Оценок нет' or other.average_lecture_marks() == 'Оценок нет':\n",
    "            return 'Сравнение невозможно, т.к. у одного из лекторов нет оценок'\n",
    "        return self.average_lecture_marks() < other.average_lecture_marks()"
   ]
  },
  {
   "cell_type": "code",
   "execution_count": 4,
   "id": "e6144d84",
   "metadata": {},
   "outputs": [],
   "source": [
    "class Reviewer(Mentor):\n",
    "    \n",
    "    def rate_hw(self, student, course, grade):\n",
    "        if isinstance(student, Student) and course in self.courses_attached and course in student.courses_in_progress:\n",
    "            if course in student.grades:\n",
    "                student.grades[course] += [grade]\n",
    "            else:\n",
    "                student.grades[course] = [grade]\n",
    "        else:\n",
    "            return 'Ошибка'\n",
    "\n",
    "    # Перезагрузка метода str для проверяющего\n",
    "    def __str__(self):\n",
    "        res = f'''\n",
    "        Имя: {self.name}\n",
    "        Фамилия: {self.surname}\n",
    "        '''\n",
    "        return res"
   ]
  },
  {
   "cell_type": "code",
   "execution_count": 5,
   "id": "cdba7098",
   "metadata": {},
   "outputs": [],
   "source": [
    "# Создадим по экземпляры классов Student, Lecturer, Reviewer\n",
    "some_student = Student('Ivan', 'Ivanov', 'male')\n",
    "second_student = Student('Svetlana', 'Mironova', 'female')\n",
    "another_student = Student('Olga', 'Petrova', 'female')\n",
    "\n",
    "some_lecturer = Lecturer('Sergey', 'Sergeev')\n",
    "second_lecturer = Lecturer('Petr', 'Petrov')\n",
    "another_lecturer = Lecturer('Oleg', 'Sidorov')\n",
    "\n",
    "some_reviewer = Reviewer('Aleksandr', 'Petrov')\n",
    "another_reviewer = Reviewer('Alekey', 'Popov')"
   ]
  },
  {
   "cell_type": "code",
   "execution_count": 6,
   "id": "7413fc96",
   "metadata": {},
   "outputs": [],
   "source": [
    "# Добавим курсы студентам, лекторам и проверяющим\n",
    "some_lecturer.courses_attached += ['Python','Java','HTML']\n",
    "second_lecturer.courses_attached += ['Python','Java','Swift']\n",
    "another_lecturer.courses_attached += ['C++','Java','Swift']\n",
    "\n",
    "some_student.courses_in_progress += ['Python']\n",
    "some_student.finished_courses += ['C++', 'Swift','Java']\n",
    "another_student.courses_in_progress += ['Java', 'HTML']\n",
    "second_student.courses_in_progress += ['Swift']\n",
    "\n",
    "some_reviewer.courses_attached += ['Swift', 'HTML', 'Java']\n",
    "another_reviewer.courses_attached += ['Java']"
   ]
  },
  {
   "cell_type": "code",
   "execution_count": 7,
   "id": "97e9c716",
   "metadata": {},
   "outputs": [],
   "source": [
    "# Проверим метод оценки лекторов у студентов\n",
    "some_student.rate_lecture(some_lecturer,'Python', 8)\n",
    "some_student.rate_lecture(second_lecturer,'Python', 2)\n",
    "another_student.rate_lecture(some_lecturer,'Java', 10)\n",
    "\n",
    "# Проверим метод оценки дз у проверяющих\n",
    "some_reviewer.rate_hw(another_student,'Java', 10)\n",
    "some_reviewer.rate_hw(second_student,'Swift', 2)\n",
    "another_reviewer.rate_hw(another_student,'Java', 6)"
   ]
  },
  {
   "cell_type": "code",
   "execution_count": 8,
   "id": "5aba1f89",
   "metadata": {},
   "outputs": [
    {
     "name": "stdout",
     "output_type": "stream",
     "text": [
      "Метод __str__ для класса Reviewer:\n",
      "\n",
      "        Имя: Aleksandr\n",
      "        Фамилия: Petrov\n",
      "        \n",
      "Метод __str__ для класса Lecturer:\n",
      "\n",
      "        Имя: Oleg\n",
      "        Фамилия: Sidorov\n",
      "        Средняя оценка за лекции: Оценок нет\n",
      "        \n",
      "\n",
      "        Имя: Petr\n",
      "        Фамилия: Petrov\n",
      "        Средняя оценка за лекции: 2.0\n",
      "        \n",
      "Метод __str__ для класса Student:\n",
      "\n",
      "        Имя: Ivan\n",
      "        Фамилия: Ivanov\n",
      "        Средняя оценка за ДЗ: Оценок нет\n",
      "        Курсы в процессе изучения: Python\n",
      "        Завершенные курсы: C++, Swift, Java\n",
      "        \n",
      "\n",
      "        Имя: Svetlana\n",
      "        Фамилия: Mironova\n",
      "        Средняя оценка за ДЗ: 2.0\n",
      "        Курсы в процессе изучения: Swift\n",
      "        Завершенные курсы: \n",
      "        \n"
     ]
    }
   ],
   "source": [
    "# Проверка перезагрузки метода __str__\n",
    "print('Метод __str__ для класса Reviewer:')\n",
    "print(some_reviewer)\n",
    "\n",
    "print('Метод __str__ для класса Lecturer:')\n",
    "print(another_lecturer) #случай, когда у лектора нет оценок\n",
    "print(second_lecturer)\n",
    "\n",
    "print('Метод __str__ для класса Student:')\n",
    "print(some_student) #случай, когда у лектора нет оценок\n",
    "print(second_student)"
   ]
  },
  {
   "cell_type": "code",
   "execution_count": 9,
   "id": "c892aa90",
   "metadata": {},
   "outputs": [
    {
     "name": "stdout",
     "output_type": "stream",
     "text": [
      "Метод __lt__ для класса Student:\n",
      "\n",
      "Сравнение невозможно, т.к. у одного из студентов нет оценок\n",
      "True\n",
      "\n",
      "Метод __lt__ для класса Lecturer:\n",
      "\n",
      "Сравнение невозможно, т.к. у одного из лекторов нет оценок\n",
      "True\n"
     ]
    }
   ],
   "source": [
    "# Проверка перезагрузки метода __lt__\n",
    "\n",
    "print('Метод __lt__ для класса Student:\\n')\n",
    "print(some_student < another_student) #случай, когда у одного из студентов нет оценок\n",
    "print(second_student < another_student)\n",
    "\n",
    "print('\\nМетод __lt__ для класса Lecturer:\\n')\n",
    "print(some_lecturer < another_lecturer) #случай, когда у одного из студентов нет оценок\n",
    "print(second_lecturer < some_lecturer)"
   ]
  },
  {
   "cell_type": "code",
   "execution_count": 10,
   "id": "13c589d2",
   "metadata": {},
   "outputs": [
    {
     "name": "stdout",
     "output_type": "stream",
     "text": [
      "8.0\n"
     ]
    }
   ],
   "source": [
    "def average_course_student_grade(students, course_name):\n",
    "    '''\n",
    "    Функция принимает на вход список студентов (класс Student) и название курса.\n",
    "    В результате средний бал по курсу среди списка студентов.\n",
    "    '''\n",
    "    average_mark = []\n",
    "    for student in students:\n",
    "        if isinstance(student, Student): #проверка на экземпляр класса\n",
    "            if student.grades.get(course_name) != None: #проверка, что у студента есть оценки по курсу\n",
    "                average_mark += student.grades.get(course_name)\n",
    "        else:\n",
    "            print('Некорректный список студентов.')\n",
    "            return\n",
    "    if len(average_mark) > 0: #проверка, что получился не пустой список оценок\n",
    "        return sum(average_mark) / len(average_mark)\n",
    "    else:\n",
    "        return 'Оценок по данному курсу нет'\n",
    "    \n",
    "students = [some_student, second_student, another_student]\n",
    "course_name = 'Java'\n",
    "\n",
    "print(average_course_student_grade(students, course_name))"
   ]
  },
  {
   "cell_type": "code",
   "execution_count": 11,
   "id": "b56e7782",
   "metadata": {},
   "outputs": [
    {
     "name": "stdout",
     "output_type": "stream",
     "text": [
      "5.0\n"
     ]
    }
   ],
   "source": [
    "def average_course_lecturer_grade(lecturers, course_name):\n",
    "    '''\n",
    "    Функция принимает на вход список лекторов (класс Lecturer) и название курса.\n",
    "    В результате средний бал по курсу среди списка лекторов.\n",
    "    '''\n",
    "    average_mark = []\n",
    "    for lecturer in lecturers:\n",
    "        if isinstance(lecturer, Lecturer): #проверка на экземпляр класса\n",
    "            if lecturer.lecture_marks.get(course_name) != None: #проверка, что у студента есть оценки по курсу\n",
    "                average_mark += lecturer.lecture_marks.get(course_name)\n",
    "        else:\n",
    "            print('Некорректный список преподователей.')\n",
    "            return\n",
    "    if len(average_mark) > 0: #проверка, что получился не пустой список оценок\n",
    "        return sum(average_mark) / len(average_mark)\n",
    "    else:\n",
    "        return 'Оценок по данному курсу нет'\n",
    "    \n",
    "lecturers = [some_lecturer, second_lecturer, another_lecturer]\n",
    "course_name = 'Python'\n",
    "\n",
    "print(average_course_lecturer_grade(lecturers, course_name))"
   ]
  }
 ],
 "metadata": {
  "kernelspec": {
   "display_name": "Python 3",
   "language": "python",
   "name": "python3"
  },
  "language_info": {
   "codemirror_mode": {
    "name": "ipython",
    "version": 3
   },
   "file_extension": ".py",
   "mimetype": "text/x-python",
   "name": "python",
   "nbconvert_exporter": "python",
   "pygments_lexer": "ipython3",
   "version": "3.8.8"
  }
 },
 "nbformat": 4,
 "nbformat_minor": 5
}
